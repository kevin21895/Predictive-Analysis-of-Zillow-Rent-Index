{
 "cells": [
  {
   "cell_type": "markdown",
   "metadata": {},
   "source": [
    "# Project: Zillow Rent Index, 2010-2017"
   ]
  },
  {
   "cell_type": "markdown",
   "metadata": {},
   "source": [
    "Q1) Propose a question for your project-\n",
    "\n",
    "1 Prediction of the next 6 months price for the rents of the houses on Zillow for all the  cities in United States of America? \n",
    "2 What city has the highest and lowest rental prices in the country?\n",
    "3 Which metropolitan area is the most expensive to live in? \n",
    "4 Where have rental prices increased in the past five years and where have they remained the same?\n",
    "5 Which City has the highest per square feet cost? \n",
    "6 Which City has the lowest per square feet cost?\n",
    "7 Which City has recorded wide range of fluctuation in the rental cost over the years?\n",
    "\n",
    "Q2) Explain why it is an interesting question?\n",
    "\n",
    "It will help the rentals and the real estate agents to quote their best price for their property and will be useful in real estate business.\n",
    "\n",
    "Q3) What data will you use to answer it?\n",
    "\n",
    "The data required is monthly rentals of the properties of all cities starting from November 2010 till January 2017 alongwith the geographic features of the cities.\n",
    "\n",
    "Q4) How will you operationalize the question?\n",
    "\n",
    "We will be performing Predictive Analytics on the Dataset. We will be searching for patterns from the past data to predict the future house rentals based on the pattern trend observed while doing data analysis.  \n",
    "\n",
    "Q5) How will you confirm your results?\n",
    "\n",
    "We can make a comparison between the mean of the house rental for all the months and the result obtained. This comparison will provide us with a probable range within which the price of the house will fall into. \n",
    "\n",
    "Q6) What are assumptions / limitations?\n",
    "\n",
    "Assumptions will be the rents of certain properties in the cities are not given in the data which will be assumed as 0 and all properties for which rentals are listed are of same kind.\n",
    "\n",
    "Q7) What is the statement that you will be able to make after the analysis?\n",
    "\n",
    "After carrying out the predictive analytics we would be able to predict the monthly house rentals of the next 6 months. We would be able to determine the highest and lowest monthly rentals of the city in the country. \n",
    "\n",
    "\n",
    "Q8) Who is in your group?\n",
    "\n",
    "Kevin Doshi, Vatsal Shah, Akshay Makharia"
   ]
  }
 ],
 "metadata": {
  "kernelspec": {
   "display_name": "Python 3",
   "language": "python",
   "name": "python3"
  },
  "language_info": {
   "codemirror_mode": {
    "name": "ipython",
    "version": 3
   },
   "file_extension": ".py",
   "mimetype": "text/x-python",
   "name": "python",
   "nbconvert_exporter": "python",
   "pygments_lexer": "ipython3",
   "version": "3.6.1"
  }
 },
 "nbformat": 4,
 "nbformat_minor": 2
}
